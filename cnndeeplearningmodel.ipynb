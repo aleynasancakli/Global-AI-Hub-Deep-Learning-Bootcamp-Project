{
  "nbformat": 4,
  "nbformat_minor": 0,
  "metadata": {
    "colab": {
      "provenance": [],
      "collapsed_sections": [],
      "include_colab_link": true
    },
    "kernelspec": {
      "name": "python3",
      "display_name": "Python 3"
    },
    "language_info": {
      "name": "python"
    },
    "accelerator": "GPU"
  },
  "cells": [
    {
      "cell_type": "markdown",
      "metadata": {
        "id": "view-in-github",
        "colab_type": "text"
      },
      "source": [
        "<a href=\"https://colab.research.google.com/github/aleynasancakli/Global-AI-Hub-Deep-Learning-Bootcamp-Project/blob/main/cnndeeplearningmodel.ipynb\" target=\"_parent\"><img src=\"https://colab.research.google.com/assets/colab-badge.svg\" alt=\"Open In Colab\"/></a>"
      ]
    },
    {
      "cell_type": "markdown",
      "source": [
        "Gerekli kütüphaneleri indirme;"
      ],
      "metadata": {
        "id": "m16trJh1muQ1"
      }
    },
    {
      "cell_type": "code",
      "source": [
        "import numpy as np # linear algebra\n",
        "import pandas as pd # data processing, CSV file I/O (e.g. pd.read_csv)\n",
        "import seaborn as sns\n",
        "\n",
        "from glob import glob # allows us to read multiple files in a directory. \n",
        "\n",
        "# Ses işleme için (Fakat hazır spectogramları kullandığımız için librosa'ya ihtiyaç duymadık)\n",
        "import librosa\n",
        "import librosa.display\n",
        "\n",
        "# Görüntü işlemek için\n",
        "import cv2 \n",
        "import matplotlib.pylab as plt\n",
        "\n",
        "#  for interacting with the operating system\n",
        "import os\n",
        "\n",
        "from sklearn.preprocessing import LabelEncoder, minmax_scale\n",
        "from sklearn.model_selection import train_test_split\n",
        "\n",
        "# to play some of the audios\n",
        "import IPython.display as ipd\n",
        "\n",
        "import pickle"
      ],
      "metadata": {
        "id": "PIeobuvTmv11"
      },
      "execution_count": null,
      "outputs": []
    },
    {
      "cell_type": "markdown",
      "source": [
        "# Colab'i Google Drive'a bağlama"
      ],
      "metadata": {
        "id": "ZIeBLZ8YmH01"
      }
    },
    {
      "cell_type": "code",
      "execution_count": null,
      "metadata": {
        "colab": {
          "base_uri": "https://localhost:8080/"
        },
        "id": "-fscF-EcmCwl",
        "outputId": "99691b18-f596-4b97-9b7d-f7746d8f989f"
      },
      "outputs": [
        {
          "output_type": "stream",
          "name": "stdout",
          "text": [
            "Mounted at /content/drive\n",
            "Mounted at /content/drive\n"
          ]
        }
      ],
      "source": [
        "from google.colab import drive\n",
        "drive.mount('/content/drive')\n",
        "drive.mount(\"/content/drive\", force_remount=True)"
      ]
    },
    {
      "cell_type": "markdown",
      "source": [
        "# Loading Datasets"
      ],
      "metadata": {
        "id": "eb6tO9eFmN_g"
      }
    },
    {
      "cell_type": "code",
      "source": [
        "pickle_file_link = \"/content/drive/MyDrive/datasets\"\n",
        "X_train = pickle.load(open(f\"{pickle_file_link}/X_train.pickle\", \"rb\"))\n",
        "y_train = pickle.load(open(f\"{pickle_file_link}/y_train.pickle\", \"rb\"))\n",
        "\n",
        "X_val = pickle.load(open(f\"{pickle_file_link}/X_val.pickle\", \"rb\"))\n",
        "y_val = pickle.load(open(f\"{pickle_file_link}/y_val.pickle\", \"rb\"))\n",
        "\n",
        "X_test = pickle.load(open(f\"{pickle_file_link}/X_test.pickle\", \"rb\"))\n",
        "y_test = pickle.load(open(f\"{pickle_file_link}/y_test.pickle\", \"rb\"))"
      ],
      "metadata": {
        "id": "BCsUoZF1mTH3"
      },
      "execution_count": null,
      "outputs": []
    },
    {
      "cell_type": "markdown",
      "source": [
        "# Creating CNN Model"
      ],
      "metadata": {
        "id": "BQtRxcvamfqY"
      }
    },
    {
      "cell_type": "code",
      "source": [
        "import tensorflow as tf\n",
        "from tensorflow import keras\n",
        "from keras import layers\n",
        "from keras.layers import Dense, Dropout, Flatten, Activation, Conv2D, MaxPooling2D\n",
        "from keras import Sequential\n",
        "\n",
        "\n",
        "\n",
        "from keras.layers import Dense, Dropout, Flatten, Activation\n",
        "\n",
        "\n",
        "model = Sequential()\n",
        "model.add(Conv2D(filters = 64, kernel_size = 5, padding = 'same', activation = 'relu', \n",
        "                 input_shape = (128,128,1)))\n",
        "model.add(Conv2D(filters = 64, kernel_size = 5, padding = 'same', activation = 'relu'))\n",
        "model.add(MaxPooling2D(pool_size = (4, 4)))\n",
        "model.add(Dropout(0.5))\n",
        "\n",
        "model.add(Conv2D(filters = 128 , kernel_size = 5, padding = 'same', activation = 'relu'))\n",
        "model.add(Conv2D(filters = 128 , kernel_size = 5, padding = 'same', activation = 'relu'))\n",
        "model.add(MaxPooling2D(pool_size = (4, 4)))\n",
        "model.add(Dropout(0.5))\n",
        "\n",
        "model.add(Conv2D(filters = 256 , kernel_size = 5, padding = 'same', activation = 'relu'))\n",
        "model.add(Dropout(0.5))\n",
        "\n",
        "model.add(Flatten())\n",
        "model.add(Dense(10, activation='softmax'))\n",
        "\n",
        "model.summary()"
      ],
      "metadata": {
        "colab": {
          "base_uri": "https://localhost:8080/"
        },
        "id": "d7CUj3pemjr8",
        "outputId": "eb98ae0f-48f8-4724-b305-9020ea66b2bf"
      },
      "execution_count": null,
      "outputs": [
        {
          "output_type": "stream",
          "name": "stdout",
          "text": [
            "Model: \"sequential\"\n",
            "_________________________________________________________________\n",
            " Layer (type)                Output Shape              Param #   \n",
            "=================================================================\n",
            " conv2d (Conv2D)             (None, 128, 128, 64)      1664      \n",
            "                                                                 \n",
            " conv2d_1 (Conv2D)           (None, 128, 128, 64)      102464    \n",
            "                                                                 \n",
            " max_pooling2d (MaxPooling2D  (None, 32, 32, 64)       0         \n",
            " )                                                               \n",
            "                                                                 \n",
            " dropout (Dropout)           (None, 32, 32, 64)        0         \n",
            "                                                                 \n",
            " conv2d_2 (Conv2D)           (None, 32, 32, 128)       204928    \n",
            "                                                                 \n",
            " conv2d_3 (Conv2D)           (None, 32, 32, 128)       409728    \n",
            "                                                                 \n",
            " max_pooling2d_1 (MaxPooling  (None, 8, 8, 128)        0         \n",
            " 2D)                                                             \n",
            "                                                                 \n",
            " dropout_1 (Dropout)         (None, 8, 8, 128)         0         \n",
            "                                                                 \n",
            " conv2d_4 (Conv2D)           (None, 8, 8, 256)         819456    \n",
            "                                                                 \n",
            " dropout_2 (Dropout)         (None, 8, 8, 256)         0         \n",
            "                                                                 \n",
            " flatten (Flatten)           (None, 16384)             0         \n",
            "                                                                 \n",
            " dense (Dense)               (None, 10)                163850    \n",
            "                                                                 \n",
            "=================================================================\n",
            "Total params: 1,702,090\n",
            "Trainable params: 1,702,090\n",
            "Non-trainable params: 0\n",
            "_________________________________________________________________\n"
          ]
        }
      ]
    },
    {
      "cell_type": "markdown",
      "source": [
        "## Compile the model"
      ],
      "metadata": {
        "id": "eccyMI73nAFh"
      }
    },
    {
      "cell_type": "code",
      "source": [
        "model.compile(optimizer='adam',loss = tf.keras.losses.SparseCategoricalCrossentropy(from_logits=True),\n",
        "              metrics=['accuracy'])\n",
        "\n"
      ],
      "metadata": {
        "id": "ukqWBx48taHN"
      },
      "execution_count": null,
      "outputs": []
    },
    {
      "cell_type": "markdown",
      "source": [
        "## Train the model for 50 epochs "
      ],
      "metadata": {
        "id": "3yjHCqvvtdAg"
      }
    },
    {
      "cell_type": "code",
      "source": [
        "X_trainn = np.array(X_train)\n",
        "y_trainn = np.array(y_train)\n",
        "X_testt = np.array(X_test)\n",
        "y_testt = np.array(y_test)\n",
        "X_vall = np.array(X_val)\n",
        "y_vall = np.array(y_val)\n",
        "\n",
        "results = model.fit(X_trainn, y_trainn, batch_size = 128, epochs=50, validation_data = (X_vall, y_vall))"
      ],
      "metadata": {
        "colab": {
          "base_uri": "https://localhost:8080/"
        },
        "id": "zkPt7m8Jtxqq",
        "outputId": "eea22ded-2277-4b24-8434-c2cf85a3761a"
      },
      "execution_count": null,
      "outputs": [
        {
          "output_type": "stream",
          "name": "stdout",
          "text": [
            "Epoch 1/50\n"
          ]
        },
        {
          "output_type": "stream",
          "name": "stderr",
          "text": [
            "/usr/local/lib/python3.7/dist-packages/tensorflow/python/util/dispatch.py:1082: UserWarning: \"`sparse_categorical_crossentropy` received `from_logits=True`, but the `output` argument was produced by a sigmoid or softmax activation and thus does not represent logits. Was this intended?\"\n",
            "  return dispatch_target(*args, **kwargs)\n"
          ]
        },
        {
          "output_type": "stream",
          "name": "stdout",
          "text": [
            "52/52 [==============================] - 29s 300ms/step - loss: 1.7109 - accuracy: 0.3808 - val_loss: 1.4736 - val_accuracy: 0.4950\n",
            "Epoch 2/50\n",
            "52/52 [==============================] - 13s 250ms/step - loss: 1.1615 - accuracy: 0.6038 - val_loss: 1.0781 - val_accuracy: 0.6737\n",
            "Epoch 3/50\n",
            "52/52 [==============================] - 13s 251ms/step - loss: 0.8633 - accuracy: 0.7119 - val_loss: 0.7827 - val_accuracy: 0.7507\n",
            "Epoch 4/50\n",
            "52/52 [==============================] - 13s 252ms/step - loss: 0.6754 - accuracy: 0.7722 - val_loss: 0.7017 - val_accuracy: 0.7644\n",
            "Epoch 5/50\n",
            "52/52 [==============================] - 13s 252ms/step - loss: 0.5572 - accuracy: 0.8180 - val_loss: 0.7558 - val_accuracy: 0.7360\n",
            "Epoch 6/50\n",
            "52/52 [==============================] - 13s 252ms/step - loss: 0.4648 - accuracy: 0.8455 - val_loss: 0.4620 - val_accuracy: 0.8570\n",
            "Epoch 7/50\n",
            "52/52 [==============================] - 13s 253ms/step - loss: 0.3777 - accuracy: 0.8757 - val_loss: 0.4695 - val_accuracy: 0.8579\n",
            "Epoch 8/50\n",
            "52/52 [==============================] - 13s 253ms/step - loss: 0.3076 - accuracy: 0.8948 - val_loss: 0.3657 - val_accuracy: 0.8882\n",
            "Epoch 9/50\n",
            "52/52 [==============================] - 13s 254ms/step - loss: 0.2647 - accuracy: 0.9091 - val_loss: 0.3209 - val_accuracy: 0.8918\n",
            "Epoch 10/50\n",
            "52/52 [==============================] - 13s 254ms/step - loss: 0.2371 - accuracy: 0.9195 - val_loss: 0.4330 - val_accuracy: 0.8781\n",
            "Epoch 11/50\n",
            "52/52 [==============================] - 13s 254ms/step - loss: 0.2068 - accuracy: 0.9307 - val_loss: 0.4445 - val_accuracy: 0.8625\n",
            "Epoch 12/50\n",
            "52/52 [==============================] - 13s 255ms/step - loss: 0.1962 - accuracy: 0.9321 - val_loss: 0.3505 - val_accuracy: 0.8891\n",
            "Epoch 13/50\n",
            "52/52 [==============================] - 13s 255ms/step - loss: 0.1717 - accuracy: 0.9398 - val_loss: 0.3066 - val_accuracy: 0.9184\n",
            "Epoch 14/50\n",
            "52/52 [==============================] - 13s 256ms/step - loss: 0.1362 - accuracy: 0.9525 - val_loss: 0.2531 - val_accuracy: 0.9322\n",
            "Epoch 15/50\n",
            "52/52 [==============================] - 13s 256ms/step - loss: 0.1346 - accuracy: 0.9556 - val_loss: 0.2811 - val_accuracy: 0.9193\n",
            "Epoch 16/50\n",
            "52/52 [==============================] - 13s 256ms/step - loss: 0.1418 - accuracy: 0.9510 - val_loss: 0.2901 - val_accuracy: 0.9212\n",
            "Epoch 17/50\n",
            "52/52 [==============================] - 13s 257ms/step - loss: 0.1288 - accuracy: 0.9548 - val_loss: 0.3216 - val_accuracy: 0.9111\n",
            "Epoch 18/50\n",
            "52/52 [==============================] - 13s 256ms/step - loss: 0.1118 - accuracy: 0.9620 - val_loss: 0.2871 - val_accuracy: 0.9193\n",
            "Epoch 19/50\n",
            "52/52 [==============================] - 13s 257ms/step - loss: 0.1088 - accuracy: 0.9649 - val_loss: 0.2557 - val_accuracy: 0.9267\n",
            "Epoch 20/50\n",
            "52/52 [==============================] - 13s 257ms/step - loss: 0.0918 - accuracy: 0.9698 - val_loss: 0.2729 - val_accuracy: 0.9248\n",
            "Epoch 21/50\n",
            "52/52 [==============================] - 13s 257ms/step - loss: 0.0716 - accuracy: 0.9780 - val_loss: 0.3118 - val_accuracy: 0.9248\n",
            "Epoch 22/50\n",
            "52/52 [==============================] - 13s 257ms/step - loss: 0.0872 - accuracy: 0.9721 - val_loss: 0.2984 - val_accuracy: 0.9276\n",
            "Epoch 23/50\n",
            "52/52 [==============================] - 13s 257ms/step - loss: 0.0890 - accuracy: 0.9713 - val_loss: 0.3257 - val_accuracy: 0.9294\n",
            "Epoch 24/50\n",
            "52/52 [==============================] - 13s 257ms/step - loss: 0.0819 - accuracy: 0.9730 - val_loss: 0.3226 - val_accuracy: 0.9175\n",
            "Epoch 25/50\n",
            "52/52 [==============================] - 13s 256ms/step - loss: 0.1301 - accuracy: 0.9603 - val_loss: 0.2232 - val_accuracy: 0.9395\n",
            "Epoch 26/50\n",
            "52/52 [==============================] - 13s 257ms/step - loss: 0.0622 - accuracy: 0.9806 - val_loss: 0.2775 - val_accuracy: 0.9303\n",
            "Epoch 27/50\n",
            "52/52 [==============================] - 13s 257ms/step - loss: 0.0559 - accuracy: 0.9818 - val_loss: 0.3103 - val_accuracy: 0.9358\n",
            "Epoch 28/50\n",
            "52/52 [==============================] - 13s 257ms/step - loss: 0.0599 - accuracy: 0.9795 - val_loss: 0.3632 - val_accuracy: 0.9221\n",
            "Epoch 29/50\n",
            "52/52 [==============================] - 13s 258ms/step - loss: 0.0729 - accuracy: 0.9765 - val_loss: 0.2720 - val_accuracy: 0.9303\n",
            "Epoch 30/50\n",
            "52/52 [==============================] - 13s 260ms/step - loss: 0.0618 - accuracy: 0.9805 - val_loss: 0.2669 - val_accuracy: 0.9349\n",
            "Epoch 31/50\n",
            "52/52 [==============================] - 14s 260ms/step - loss: 0.0574 - accuracy: 0.9808 - val_loss: 0.3013 - val_accuracy: 0.9331\n",
            "Epoch 32/50\n",
            "52/52 [==============================] - 13s 257ms/step - loss: 0.0676 - accuracy: 0.9803 - val_loss: 0.3300 - val_accuracy: 0.9267\n",
            "Epoch 33/50\n",
            "52/52 [==============================] - 13s 257ms/step - loss: 0.0691 - accuracy: 0.9777 - val_loss: 0.2657 - val_accuracy: 0.9413\n",
            "Epoch 34/50\n",
            "52/52 [==============================] - 13s 257ms/step - loss: 0.0688 - accuracy: 0.9779 - val_loss: 0.3127 - val_accuracy: 0.9267\n",
            "Epoch 35/50\n",
            "52/52 [==============================] - 13s 258ms/step - loss: 0.0485 - accuracy: 0.9831 - val_loss: 0.3339 - val_accuracy: 0.9258\n",
            "Epoch 36/50\n",
            "52/52 [==============================] - 13s 258ms/step - loss: 0.0541 - accuracy: 0.9824 - val_loss: 0.2976 - val_accuracy: 0.9313\n",
            "Epoch 37/50\n",
            "52/52 [==============================] - 13s 257ms/step - loss: 0.0462 - accuracy: 0.9856 - val_loss: 0.3646 - val_accuracy: 0.9184\n",
            "Epoch 38/50\n",
            "52/52 [==============================] - 13s 257ms/step - loss: 0.0613 - accuracy: 0.9837 - val_loss: 0.2905 - val_accuracy: 0.9377\n",
            "Epoch 39/50\n",
            "52/52 [==============================] - 13s 257ms/step - loss: 0.0392 - accuracy: 0.9872 - val_loss: 0.2960 - val_accuracy: 0.9313\n",
            "Epoch 40/50\n",
            "52/52 [==============================] - 13s 258ms/step - loss: 0.0421 - accuracy: 0.9855 - val_loss: 0.3461 - val_accuracy: 0.9239\n",
            "Epoch 41/50\n",
            "52/52 [==============================] - 13s 258ms/step - loss: 0.0564 - accuracy: 0.9818 - val_loss: 0.2905 - val_accuracy: 0.9258\n",
            "Epoch 42/50\n",
            "52/52 [==============================] - 13s 258ms/step - loss: 0.0583 - accuracy: 0.9831 - val_loss: 0.3302 - val_accuracy: 0.9239\n",
            "Epoch 43/50\n",
            "52/52 [==============================] - 13s 257ms/step - loss: 0.0634 - accuracy: 0.9798 - val_loss: 0.2747 - val_accuracy: 0.9395\n",
            "Epoch 44/50\n",
            "52/52 [==============================] - 14s 266ms/step - loss: 0.0716 - accuracy: 0.9769 - val_loss: 0.2593 - val_accuracy: 0.9377\n",
            "Epoch 45/50\n",
            "52/52 [==============================] - 13s 257ms/step - loss: 0.0402 - accuracy: 0.9864 - val_loss: 0.2760 - val_accuracy: 0.9450\n",
            "Epoch 46/50\n",
            "52/52 [==============================] - 13s 257ms/step - loss: 0.0327 - accuracy: 0.9881 - val_loss: 0.3034 - val_accuracy: 0.9377\n",
            "Epoch 47/50\n",
            "52/52 [==============================] - 13s 257ms/step - loss: 0.0690 - accuracy: 0.9777 - val_loss: 0.2829 - val_accuracy: 0.9349\n",
            "Epoch 48/50\n",
            "52/52 [==============================] - 13s 257ms/step - loss: 0.0581 - accuracy: 0.9794 - val_loss: 0.2941 - val_accuracy: 0.9459\n",
            "Epoch 49/50\n",
            "52/52 [==============================] - 13s 257ms/step - loss: 0.0694 - accuracy: 0.9765 - val_loss: 0.2693 - val_accuracy: 0.9358\n",
            "Epoch 50/50\n",
            "52/52 [==============================] - 13s 257ms/step - loss: 0.0555 - accuracy: 0.9821 - val_loss: 0.2787 - val_accuracy: 0.9413\n"
          ]
        }
      ]
    },
    {
      "cell_type": "markdown",
      "source": [
        "## Plot the the training loss and accuracy\n"
      ],
      "metadata": {
        "id": "x3RUfTITts7U"
      }
    },
    {
      "cell_type": "code",
      "source": [
        "plt.subplot(121)\n",
        "plt.plot(results.history[\"loss\"], label = \"Train\")\n",
        "plt.plot(results.history[\"val_loss\"], label = \"Test\")\n",
        "plt.ylabel(\"Loss\")\n",
        "plt.xlabel(\"Epoch\")\n",
        "# Put legend table\n",
        "plt.legend()\n",
        "\n",
        "\n",
        "plt.subplot(122)\n",
        "plt.plot(results.history[\"accuracy\"], label = \"Train\")\n",
        "plt.plot(results.history[\"val_accuracy\"], label= \"Test\")\n",
        "plt.ylabel(\"Accuracy\")\n",
        "plt.xlabel(\"Epoch\")\n",
        "# Put legend table\n",
        "plt.legend()\n",
        "\n",
        "# Show the plot\n",
        "plt.show()\n"
      ],
      "metadata": {
        "id": "qiptYZOmuDzk",
        "colab": {
          "base_uri": "https://localhost:8080/",
          "height": 279
        },
        "outputId": "178cde01-7edd-4f2c-f5bd-ae300f363803"
      },
      "execution_count": null,
      "outputs": [
        {
          "output_type": "display_data",
          "data": {
            "text/plain": [
              "<Figure size 432x288 with 2 Axes>"
            ],
            "image/png": "[encoded data removed]"
          },
          "metadata": {
            "needs_background": "light"
          }
        }
      ]
    },
    {
      "cell_type": "markdown",
      "source": [
        "## Evaluate the performance"
      ],
      "metadata": {
        "id": "2Cn575VUuoZV"
      }
    },
    {
      "cell_type": "code",
      "source": [
        "test_result = model.test_on_batch(X_testt, y_testt)\n",
        "\n",
        "# Print the result [loss, accuracy]\n",
        "print(f\"Loss: {test_result[0]}, Accuracy: {test_result[1]}\")\n"
      ],
      "metadata": {
        "colab": {
          "base_uri": "https://localhost:8080/"
        },
        "id": "xBQo_xPtnAyt",
        "outputId": "28cba125-8819-4003-8e7c-a08dace3e1df"
      },
      "execution_count": null,
      "outputs": [
        {
          "output_type": "stream",
          "name": "stderr",
          "text": [
            "/usr/local/lib/python3.7/dist-packages/tensorflow/python/util/dispatch.py:1082: UserWarning: \"`sparse_categorical_crossentropy` received `from_logits=True`, but the `output` argument was produced by a sigmoid or softmax activation and thus does not represent logits. Was this intended?\"\n",
            "  return dispatch_target(*args, **kwargs)\n"
          ]
        },
        {
          "output_type": "stream",
          "name": "stdout",
          "text": [
            "Loss: 0.27935492992401123, Accuracy: 0.9349817037582397\n"
          ]
        }
      ]
    },
    {
      "cell_type": "markdown",
      "source": [],
      "metadata": {
        "id": "H2-vimeWqs4l"
      }
    },
    {
      "cell_type": "markdown",
      "source": [
        "# Hyperparameter Optimization\n"
      ],
      "metadata": {
        "id": "ylMx8uBaC7b2"
      }
    },
    {
      "cell_type": "code",
      "source": [
        "model.add(Dropout(0.5))\n",
        "\n",
        "results = model.fit(X_trainn, y_trainn, batch_size = 64, epochs=100, validation_data = (X_vall, y_vall))\n",
        "test_result = model.test_on_batch(X_testt, y_testt)\n",
        "\n",
        "# Print the result [loss, accuracy]\n",
        "print(f\"Loss: {test_result[0]}, Accuracy: {test_result[1]}\")"
      ],
      "metadata": {
        "colab": {
          "base_uri": "https://localhost:8080/"
        },
        "id": "ozXRlQBuHHjv",
        "outputId": "85d24730-5156-4fd0-fa6a-88fcbd1eca78"
      },
      "execution_count": null,
      "outputs": [
        {
          "output_type": "stream",
          "name": "stdout",
          "text": [
            "Epoch 1/100\n",
            "103/103 [==============================] - 16s 134ms/step - loss: 0.1193 - accuracy: 0.9640 - val_loss: 0.3799 - val_accuracy: 0.9157\n",
            "Epoch 2/100\n",
            "103/103 [==============================] - 13s 130ms/step - loss: 0.1353 - accuracy: 0.9568 - val_loss: 0.3097 - val_accuracy: 0.9248\n",
            "Epoch 3/100\n",
            "103/103 [==============================] - 13s 130ms/step - loss: 0.1349 - accuracy: 0.9545 - val_loss: 0.2754 - val_accuracy: 0.9212\n",
            "Epoch 4/100\n",
            "103/103 [==============================] - 13s 131ms/step - loss: 0.1214 - accuracy: 0.9656 - val_loss: 0.3126 - val_accuracy: 0.9248\n",
            "Epoch 5/100\n",
            "103/103 [==============================] - 14s 131ms/step - loss: 0.0983 - accuracy: 0.9689 - val_loss: 0.3647 - val_accuracy: 0.9093\n",
            "Epoch 6/100\n",
            "103/103 [==============================] - 14s 131ms/step - loss: 0.0966 - accuracy: 0.9707 - val_loss: 0.2841 - val_accuracy: 0.9303\n",
            "Epoch 7/100\n",
            "103/103 [==============================] - 14s 131ms/step - loss: 0.0723 - accuracy: 0.9782 - val_loss: 0.2662 - val_accuracy: 0.9441\n",
            "Epoch 8/100\n",
            "103/103 [==============================] - 14s 131ms/step - loss: 0.0902 - accuracy: 0.9736 - val_loss: 0.2358 - val_accuracy: 0.9413\n",
            "Epoch 9/100\n",
            "103/103 [==============================] - 14s 132ms/step - loss: 0.0660 - accuracy: 0.9808 - val_loss: 0.2765 - val_accuracy: 0.9349\n",
            "Epoch 10/100\n",
            "103/103 [==============================] - 14s 132ms/step - loss: 0.0595 - accuracy: 0.9835 - val_loss: 0.3258 - val_accuracy: 0.9303\n",
            "Epoch 11/100\n",
            "103/103 [==============================] - 14s 132ms/step - loss: 0.0656 - accuracy: 0.9782 - val_loss: 0.2769 - val_accuracy: 0.9441\n",
            "Epoch 12/100\n",
            "103/103 [==============================] - 14s 132ms/step - loss: 0.0719 - accuracy: 0.9753 - val_loss: 0.2884 - val_accuracy: 0.9368\n",
            "Epoch 13/100\n",
            "103/103 [==============================] - 14s 132ms/step - loss: 0.0996 - accuracy: 0.9728 - val_loss: 0.4406 - val_accuracy: 0.8973\n",
            "Epoch 14/100\n",
            "103/103 [==============================] - 14s 132ms/step - loss: 0.0943 - accuracy: 0.9730 - val_loss: 0.2433 - val_accuracy: 0.9358\n",
            "Epoch 15/100\n",
            "103/103 [==============================] - 14s 132ms/step - loss: 0.0726 - accuracy: 0.9789 - val_loss: 0.3029 - val_accuracy: 0.9221\n",
            "Epoch 16/100\n",
            "103/103 [==============================] - 14s 133ms/step - loss: 0.0507 - accuracy: 0.9841 - val_loss: 0.2676 - val_accuracy: 0.9358\n",
            "Epoch 17/100\n",
            "103/103 [==============================] - 14s 133ms/step - loss: 0.0593 - accuracy: 0.9817 - val_loss: 0.3662 - val_accuracy: 0.9267\n",
            "Epoch 18/100\n",
            "103/103 [==============================] - 14s 133ms/step - loss: 0.0569 - accuracy: 0.9820 - val_loss: 0.4006 - val_accuracy: 0.9175\n",
            "Epoch 19/100\n",
            "103/103 [==============================] - 14s 133ms/step - loss: 0.0715 - accuracy: 0.9803 - val_loss: 0.3469 - val_accuracy: 0.9331\n",
            "Epoch 20/100\n",
            "103/103 [==============================] - 14s 133ms/step - loss: 0.0510 - accuracy: 0.9843 - val_loss: 0.3415 - val_accuracy: 0.9239\n",
            "Epoch 21/100\n",
            "103/103 [==============================] - 14s 133ms/step - loss: 0.0988 - accuracy: 0.9750 - val_loss: 0.2876 - val_accuracy: 0.9340\n",
            "Epoch 22/100\n",
            "103/103 [==============================] - 14s 133ms/step - loss: 0.0754 - accuracy: 0.9769 - val_loss: 0.2450 - val_accuracy: 0.9459\n",
            "Epoch 23/100\n",
            "103/103 [==============================] - 14s 133ms/step - loss: 0.0646 - accuracy: 0.9806 - val_loss: 0.2961 - val_accuracy: 0.9248\n",
            "Epoch 24/100\n",
            "103/103 [==============================] - 14s 133ms/step - loss: 0.0383 - accuracy: 0.9870 - val_loss: 0.2317 - val_accuracy: 0.9413\n",
            "Epoch 25/100\n",
            "103/103 [==============================] - 14s 133ms/step - loss: 0.0425 - accuracy: 0.9873 - val_loss: 0.2441 - val_accuracy: 0.9505\n",
            "Epoch 26/100\n",
            "103/103 [==============================] - 14s 133ms/step - loss: 0.0459 - accuracy: 0.9864 - val_loss: 0.2927 - val_accuracy: 0.9413\n",
            "Epoch 27/100\n",
            "103/103 [==============================] - 14s 137ms/step - loss: 0.0595 - accuracy: 0.9829 - val_loss: 0.2991 - val_accuracy: 0.9386\n",
            "Epoch 28/100\n",
            "103/103 [==============================] - 14s 132ms/step - loss: 0.1062 - accuracy: 0.9705 - val_loss: 0.4150 - val_accuracy: 0.9157\n",
            "Epoch 29/100\n",
            "103/103 [==============================] - 14s 133ms/step - loss: 0.0869 - accuracy: 0.9768 - val_loss: 0.3321 - val_accuracy: 0.9276\n",
            "Epoch 30/100\n",
            "103/103 [==============================] - 14s 134ms/step - loss: 0.0697 - accuracy: 0.9803 - val_loss: 0.2478 - val_accuracy: 0.9413\n",
            "Epoch 31/100\n",
            "103/103 [==============================] - 14s 133ms/step - loss: 0.0541 - accuracy: 0.9847 - val_loss: 0.3086 - val_accuracy: 0.9395\n",
            "Epoch 32/100\n",
            "103/103 [==============================] - 14s 133ms/step - loss: 0.0469 - accuracy: 0.9870 - val_loss: 0.2822 - val_accuracy: 0.9450\n",
            "Epoch 33/100\n",
            "103/103 [==============================] - 14s 133ms/step - loss: 0.0383 - accuracy: 0.9881 - val_loss: 0.2963 - val_accuracy: 0.9358\n",
            "Epoch 34/100\n",
            "103/103 [==============================] - 14s 133ms/step - loss: 0.0380 - accuracy: 0.9878 - val_loss: 0.4242 - val_accuracy: 0.9239\n",
            "Epoch 35/100\n",
            "103/103 [==============================] - 14s 133ms/step - loss: 0.0420 - accuracy: 0.9866 - val_loss: 0.3473 - val_accuracy: 0.9331\n",
            "Epoch 36/100\n",
            "103/103 [==============================] - 14s 133ms/step - loss: 0.0553 - accuracy: 0.9855 - val_loss: 0.2769 - val_accuracy: 0.9322\n",
            "Epoch 37/100\n",
            "103/103 [==============================] - 14s 133ms/step - loss: 0.0414 - accuracy: 0.9884 - val_loss: 0.3041 - val_accuracy: 0.9368\n",
            "Epoch 38/100\n",
            "103/103 [==============================] - 14s 133ms/step - loss: 0.0340 - accuracy: 0.9882 - val_loss: 0.3410 - val_accuracy: 0.9413\n",
            "Epoch 39/100\n",
            "103/103 [==============================] - 14s 133ms/step - loss: 0.0564 - accuracy: 0.9853 - val_loss: 0.3983 - val_accuracy: 0.9248\n",
            "Epoch 40/100\n",
            "103/103 [==============================] - 14s 133ms/step - loss: 0.0616 - accuracy: 0.9824 - val_loss: 0.2755 - val_accuracy: 0.9395\n",
            "Epoch 41/100\n",
            "103/103 [==============================] - 14s 133ms/step - loss: 0.0714 - accuracy: 0.9794 - val_loss: 0.4400 - val_accuracy: 0.9239\n",
            "Epoch 42/100\n",
            "103/103 [==============================] - 14s 137ms/step - loss: 0.0504 - accuracy: 0.9852 - val_loss: 0.2991 - val_accuracy: 0.9386\n",
            "Epoch 43/100\n",
            "103/103 [==============================] - 14s 134ms/step - loss: 0.0619 - accuracy: 0.9821 - val_loss: 0.2702 - val_accuracy: 0.9340\n",
            "Epoch 44/100\n",
            "103/103 [==============================] - 14s 133ms/step - loss: 0.0407 - accuracy: 0.9873 - val_loss: 0.3164 - val_accuracy: 0.9276\n",
            "Epoch 45/100\n",
            "103/103 [==============================] - 14s 133ms/step - loss: 0.0393 - accuracy: 0.9870 - val_loss: 0.2714 - val_accuracy: 0.9331\n",
            "Epoch 46/100\n",
            "103/103 [==============================] - 14s 133ms/step - loss: 0.0428 - accuracy: 0.9873 - val_loss: 0.2870 - val_accuracy: 0.9386\n",
            "Epoch 47/100\n",
            "103/103 [==============================] - 14s 138ms/step - loss: 0.0492 - accuracy: 0.9863 - val_loss: 0.4017 - val_accuracy: 0.9276\n",
            "Epoch 48/100\n",
            "103/103 [==============================] - 14s 133ms/step - loss: 0.0590 - accuracy: 0.9849 - val_loss: 0.4274 - val_accuracy: 0.9294\n",
            "Epoch 49/100\n",
            "103/103 [==============================] - 14s 133ms/step - loss: 0.0918 - accuracy: 0.9766 - val_loss: 0.2774 - val_accuracy: 0.9322\n",
            "Epoch 50/100\n",
            "103/103 [==============================] - 14s 133ms/step - loss: 0.0600 - accuracy: 0.9823 - val_loss: 0.3473 - val_accuracy: 0.9294\n",
            "Epoch 51/100\n",
            "103/103 [==============================] - 14s 133ms/step - loss: 0.0495 - accuracy: 0.9876 - val_loss: 0.2962 - val_accuracy: 0.9285\n",
            "Epoch 52/100\n",
            "103/103 [==============================] - 14s 133ms/step - loss: 0.0463 - accuracy: 0.9872 - val_loss: 0.3909 - val_accuracy: 0.9221\n",
            "Epoch 53/100\n",
            "103/103 [==============================] - 14s 133ms/step - loss: 0.0575 - accuracy: 0.9864 - val_loss: 0.3315 - val_accuracy: 0.9423\n",
            "Epoch 54/100\n",
            "103/103 [==============================] - 14s 138ms/step - loss: 0.0539 - accuracy: 0.9832 - val_loss: 0.3719 - val_accuracy: 0.9368\n",
            "Epoch 55/100\n",
            "103/103 [==============================] - 14s 134ms/step - loss: 0.0476 - accuracy: 0.9887 - val_loss: 0.3882 - val_accuracy: 0.9267\n",
            "Epoch 56/100\n",
            "103/103 [==============================] - 14s 133ms/step - loss: 0.0620 - accuracy: 0.9856 - val_loss: 0.3843 - val_accuracy: 0.9313\n",
            "Epoch 57/100\n",
            "103/103 [==============================] - 14s 133ms/step - loss: 0.0605 - accuracy: 0.9846 - val_loss: 0.3433 - val_accuracy: 0.9386\n",
            "Epoch 58/100\n",
            "103/103 [==============================] - 14s 133ms/step - loss: 0.0579 - accuracy: 0.9852 - val_loss: 0.3434 - val_accuracy: 0.9322\n",
            "Epoch 59/100\n",
            "103/103 [==============================] - 14s 133ms/step - loss: 0.0369 - accuracy: 0.9893 - val_loss: 0.3743 - val_accuracy: 0.9349\n",
            "Epoch 60/100\n",
            "103/103 [==============================] - 14s 133ms/step - loss: 0.0511 - accuracy: 0.9869 - val_loss: 0.3323 - val_accuracy: 0.9349\n",
            "Epoch 61/100\n",
            "103/103 [==============================] - 14s 133ms/step - loss: 0.0430 - accuracy: 0.9890 - val_loss: 0.4490 - val_accuracy: 0.9212\n",
            "Epoch 62/100\n",
            "103/103 [==============================] - 14s 133ms/step - loss: 0.0767 - accuracy: 0.9808 - val_loss: 0.4174 - val_accuracy: 0.9303\n",
            "Epoch 63/100\n",
            "103/103 [==============================] - 14s 133ms/step - loss: 0.0776 - accuracy: 0.9779 - val_loss: 0.3350 - val_accuracy: 0.9423\n",
            "Epoch 64/100\n",
            "103/103 [==============================] - 14s 133ms/step - loss: 0.0444 - accuracy: 0.9853 - val_loss: 0.3759 - val_accuracy: 0.9230\n",
            "Epoch 65/100\n",
            "103/103 [==============================] - 14s 133ms/step - loss: 0.0499 - accuracy: 0.9864 - val_loss: 0.3338 - val_accuracy: 0.9358\n",
            "Epoch 66/100\n",
            "103/103 [==============================] - 14s 133ms/step - loss: 0.0473 - accuracy: 0.9879 - val_loss: 0.2926 - val_accuracy: 0.9303\n",
            "Epoch 67/100\n",
            "103/103 [==============================] - 14s 133ms/step - loss: 0.0639 - accuracy: 0.9837 - val_loss: 0.3206 - val_accuracy: 0.9322\n",
            "Epoch 68/100\n",
            "103/103 [==============================] - 14s 134ms/step - loss: 0.0414 - accuracy: 0.9870 - val_loss: 0.3250 - val_accuracy: 0.9386\n",
            "Epoch 69/100\n",
            "103/103 [==============================] - 14s 133ms/step - loss: 0.0486 - accuracy: 0.9872 - val_loss: 0.3110 - val_accuracy: 0.9294\n",
            "Epoch 70/100\n",
            "103/103 [==============================] - 14s 133ms/step - loss: 0.0384 - accuracy: 0.9890 - val_loss: 0.3599 - val_accuracy: 0.9294\n",
            "Epoch 71/100\n",
            "103/103 [==============================] - 14s 133ms/step - loss: 0.0513 - accuracy: 0.9856 - val_loss: 0.3651 - val_accuracy: 0.9322\n",
            "Epoch 72/100\n",
            "103/103 [==============================] - 14s 133ms/step - loss: 0.0436 - accuracy: 0.9872 - val_loss: 0.4748 - val_accuracy: 0.9258\n",
            "Epoch 73/100\n",
            "103/103 [==============================] - 14s 133ms/step - loss: 0.0540 - accuracy: 0.9864 - val_loss: 0.3088 - val_accuracy: 0.9340\n",
            "Epoch 74/100\n",
            "103/103 [==============================] - 14s 133ms/step - loss: 0.0330 - accuracy: 0.9910 - val_loss: 0.3289 - val_accuracy: 0.9386\n",
            "Epoch 75/100\n",
            "103/103 [==============================] - 14s 132ms/step - loss: 0.0277 - accuracy: 0.9911 - val_loss: 0.3621 - val_accuracy: 0.9386\n",
            "Epoch 76/100\n",
            "103/103 [==============================] - 14s 132ms/step - loss: 0.0549 - accuracy: 0.9866 - val_loss: 0.2720 - val_accuracy: 0.9368\n",
            "Epoch 77/100\n",
            "103/103 [==============================] - 14s 133ms/step - loss: 0.0702 - accuracy: 0.9821 - val_loss: 0.4047 - val_accuracy: 0.9267\n",
            "Epoch 78/100\n",
            "103/103 [==============================] - 14s 133ms/step - loss: 0.0668 - accuracy: 0.9852 - val_loss: 0.2757 - val_accuracy: 0.9441\n",
            "Epoch 79/100\n",
            "103/103 [==============================] - 14s 137ms/step - loss: 0.0471 - accuracy: 0.9860 - val_loss: 0.2985 - val_accuracy: 0.9395\n",
            "Epoch 80/100\n",
            "103/103 [==============================] - 14s 133ms/step - loss: 0.0405 - accuracy: 0.9890 - val_loss: 0.3970 - val_accuracy: 0.9313\n",
            "Epoch 81/100\n",
            "103/103 [==============================] - 14s 133ms/step - loss: 0.0496 - accuracy: 0.9878 - val_loss: 0.3307 - val_accuracy: 0.9358\n",
            "Epoch 82/100\n",
            "103/103 [==============================] - 14s 133ms/step - loss: 0.0561 - accuracy: 0.9867 - val_loss: 0.4534 - val_accuracy: 0.9120\n",
            "Epoch 83/100\n",
            "103/103 [==============================] - 14s 133ms/step - loss: 0.0663 - accuracy: 0.9827 - val_loss: 0.4477 - val_accuracy: 0.9193\n",
            "Epoch 84/100\n",
            "103/103 [==============================] - 14s 133ms/step - loss: 0.0925 - accuracy: 0.9782 - val_loss: 0.3428 - val_accuracy: 0.9303\n",
            "Epoch 85/100\n",
            "103/103 [==============================] - 14s 133ms/step - loss: 0.0434 - accuracy: 0.9881 - val_loss: 0.3214 - val_accuracy: 0.9395\n",
            "Epoch 86/100\n",
            "103/103 [==============================] - 14s 133ms/step - loss: 0.0672 - accuracy: 0.9838 - val_loss: 0.3082 - val_accuracy: 0.9349\n",
            "Epoch 87/100\n",
            "103/103 [==============================] - 14s 133ms/step - loss: 0.0430 - accuracy: 0.9887 - val_loss: 0.3673 - val_accuracy: 0.9368\n",
            "Epoch 88/100\n",
            "103/103 [==============================] - 14s 133ms/step - loss: 0.0442 - accuracy: 0.9907 - val_loss: 0.4671 - val_accuracy: 0.9285\n",
            "Epoch 89/100\n",
            "103/103 [==============================] - 14s 133ms/step - loss: 0.0503 - accuracy: 0.9860 - val_loss: 0.3642 - val_accuracy: 0.9413\n",
            "Epoch 90/100\n",
            "103/103 [==============================] - 14s 133ms/step - loss: 0.0357 - accuracy: 0.9905 - val_loss: 0.4336 - val_accuracy: 0.9377\n",
            "Epoch 91/100\n",
            "103/103 [==============================] - 14s 133ms/step - loss: 0.0425 - accuracy: 0.9889 - val_loss: 0.4078 - val_accuracy: 0.9404\n",
            "Epoch 92/100\n",
            "103/103 [==============================] - 14s 133ms/step - loss: 0.0421 - accuracy: 0.9902 - val_loss: 0.3444 - val_accuracy: 0.9441\n",
            "Epoch 93/100\n",
            "103/103 [==============================] - 14s 133ms/step - loss: 0.0420 - accuracy: 0.9914 - val_loss: 0.3939 - val_accuracy: 0.9285\n",
            "Epoch 94/100\n",
            "103/103 [==============================] - 14s 134ms/step - loss: 0.0573 - accuracy: 0.9853 - val_loss: 0.3741 - val_accuracy: 0.9340\n",
            "Epoch 95/100\n",
            "103/103 [==============================] - 14s 133ms/step - loss: 0.0571 - accuracy: 0.9844 - val_loss: 0.3983 - val_accuracy: 0.9322\n",
            "Epoch 96/100\n",
            "103/103 [==============================] - 14s 134ms/step - loss: 0.0354 - accuracy: 0.9914 - val_loss: 0.5451 - val_accuracy: 0.9157\n",
            "Epoch 97/100\n",
            "103/103 [==============================] - 14s 133ms/step - loss: 0.0772 - accuracy: 0.9824 - val_loss: 0.4319 - val_accuracy: 0.9230\n",
            "Epoch 98/100\n",
            "103/103 [==============================] - 14s 134ms/step - loss: 0.0587 - accuracy: 0.9856 - val_loss: 0.3491 - val_accuracy: 0.9322\n",
            "Epoch 99/100\n",
            "103/103 [==============================] - 14s 133ms/step - loss: 0.0421 - accuracy: 0.9882 - val_loss: 0.3702 - val_accuracy: 0.9487\n",
            "Epoch 100/100\n",
            "103/103 [==============================] - 14s 133ms/step - loss: 0.0290 - accuracy: 0.9930 - val_loss: 0.3990 - val_accuracy: 0.9404\n",
            "Loss: 0.3323105573654175, Accuracy: 0.9459707140922546\n"
          ]
        }
      ]
    }
  ]
}